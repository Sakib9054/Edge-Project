{
 "cells": [
  {
   "cell_type": "code",
   "execution_count": 5,
   "id": "d3899918-dc7a-4d89-93df-42cb8420feee",
   "metadata": {},
   "outputs": [
    {
     "name": "stdout",
     "output_type": "stream",
     "text": [
      "Defaulting to user installation because normal site-packages is not writeable\n",
      "Requirement already satisfied: pandas in c:\\programdata\\anaconda3\\lib\\site-packages (2.2.2)\n",
      "Requirement already satisfied: numpy>=1.26.0 in c:\\programdata\\anaconda3\\lib\\site-packages (from pandas) (1.26.4)\n",
      "Requirement already satisfied: python-dateutil>=2.8.2 in c:\\programdata\\anaconda3\\lib\\site-packages (from pandas) (2.9.0.post0)\n",
      "Requirement already satisfied: pytz>=2020.1 in c:\\programdata\\anaconda3\\lib\\site-packages (from pandas) (2024.1)\n",
      "Requirement already satisfied: tzdata>=2022.7 in c:\\programdata\\anaconda3\\lib\\site-packages (from pandas) (2023.3)\n",
      "Requirement already satisfied: six>=1.5 in c:\\programdata\\anaconda3\\lib\\site-packages (from python-dateutil>=2.8.2->pandas) (1.16.0)\n",
      "Note: you may need to restart the kernel to use updated packages.\n"
     ]
    }
   ],
   "source": [
    "pip install pandas"
   ]
  },
  {
   "cell_type": "code",
   "execution_count": null,
   "id": "80235a63-1f75-4410-add1-a603ee5e034e",
   "metadata": {},
   "outputs": [],
   "source": []
  },
  {
   "cell_type": "code",
   "execution_count": 9,
   "id": "06147372-b497-4e40-b3d9-b5bc7ff9150e",
   "metadata": {},
   "outputs": [],
   "source": [
    "import pandas as pd"
   ]
  },
  {
   "cell_type": "code",
   "execution_count": 11,
   "id": "996af128-3d08-4d2e-8d3f-7c20f0f76435",
   "metadata": {},
   "outputs": [
    {
     "name": "stdout",
     "output_type": "stream",
     "text": [
      "0    10\n",
      "1    20\n",
      "2    30\n",
      "3    40\n",
      "Name: age, dtype: int64\n"
     ]
    }
   ],
   "source": [
    "s=pd.Series([10,20,30,40],name=\"age\")\n",
    "print(s)"
   ]
  },
  {
   "cell_type": "code",
   "execution_count": 19,
   "id": "a92ec504-31d7-4ec9-8ece-756869bffec5",
   "metadata": {},
   "outputs": [
    {
     "name": "stdout",
     "output_type": "stream",
     "text": [
      "{'name': ['jui', 'prima', 'priya', 'hena', 'sadia', 'rivana'], 'age': [24, 25, 26, 27, 28, 29], 'city': ['Dinajpur', 'Rangpur', 'Saidpur', 'Dinajpur', 'Rangpur', 'Saidpur']}\n",
      "     name  age      city\n",
      "0     jui   24  Dinajpur\n",
      "1   prima   25   Rangpur\n",
      "2   priya   26   Saidpur\n",
      "3    hena   27  Dinajpur\n",
      "4   sadia   28   Rangpur\n",
      "5  rivana   29   Saidpur\n"
     ]
    }
   ],
   "source": [
    "students={\n",
    "    \"name\":[\"jui\",\"prima\",\"priya\",\"hena\",\"sadia\",\"rivana\"],\n",
    "    \"age\":[24,25,26,27,28,29],\n",
    "    \"city\":[\"Dinajpur\",\"Rangpur\",\"Saidpur\",\"Dinajpur\",\"Rangpur\",\"Saidpur\"]\n",
    "}\n",
    "print(students)\n",
    "df=pd.DataFrame(students)\n",
    "print(df)"
   ]
  },
  {
   "cell_type": "code",
   "execution_count": 21,
   "id": "6810807b-8f62-4b24-aac1-3eba4f3fbf54",
   "metadata": {},
   "outputs": [
    {
     "name": "stdout",
     "output_type": "stream",
     "text": [
      "{'name': ['jui', 'prima', 'priya', 'hena', 'sadia', 'rivana'], 'age': [24, 25, 26, 27, 28, 29], 'city': ['Dinajpur', 'Rangpur', 'Saidpur', 'Dinajpur', 'Rangpur', 'Saidpur']}\n",
      "    name  age      city\n",
      "0    jui   24  Dinajpur\n",
      "1  prima   25   Rangpur\n",
      "2  priya   26   Saidpur\n"
     ]
    }
   ],
   "source": [
    "students={\n",
    "    \"name\":[\"jui\",\"prima\",\"priya\",\"hena\",\"sadia\",\"rivana\"],\n",
    "    \"age\":[24,25,26,27,28,29],\n",
    "    \"city\":[\"Dinajpur\",\"Rangpur\",\"Saidpur\",\"Dinajpur\",\"Rangpur\",\"Saidpur\"]\n",
    "}\n",
    "print(students)\n",
    "df=pd.DataFrame(students)\n",
    "print(df.head(3))"
   ]
  },
  {
   "cell_type": "code",
   "execution_count": 23,
   "id": "38a16506-84ee-47e6-b852-09dd2808606a",
   "metadata": {},
   "outputs": [
    {
     "name": "stdout",
     "output_type": "stream",
     "text": [
      "{'name': ['jui', 'prima', 'priya', 'hena', 'sadia', 'rivana'], 'age': [24, 25, 26, 27, 28, 29], 'city': ['Dinajpur', 'Rangpur', 'Saidpur', 'Dinajpur', 'Rangpur', 'Saidpur']}\n",
      "     name  age      city\n",
      "3    hena   27  Dinajpur\n",
      "4   sadia   28   Rangpur\n",
      "5  rivana   29   Saidpur\n"
     ]
    }
   ],
   "source": [
    "students={\n",
    "    \"name\":[\"jui\",\"prima\",\"priya\",\"hena\",\"sadia\",\"rivana\"],\n",
    "    \"age\":[24,25,26,27,28,29],\n",
    "    \"city\":[\"Dinajpur\",\"Rangpur\",\"Saidpur\",\"Dinajpur\",\"Rangpur\",\"Saidpur\"]\n",
    "}\n",
    "print(students)\n",
    "df=pd.DataFrame(students)\n",
    "print(df.tail(3))"
   ]
  },
  {
   "cell_type": "code",
   "execution_count": 27,
   "id": "d0638351-163e-4474-af42-29fac2608ba2",
   "metadata": {},
   "outputs": [
    {
     "name": "stdout",
     "output_type": "stream",
     "text": [
      "{'name': ['jui', 'prima', 'priya', 'hena', 'sadia', 'rivana'], 'age': [24, 25, 26, 27, 28, 29], 'city': ['Dinajpur', 'Rangpur', 'Saidpur', 'Dinajpur', 'Rangpur', 'Saidpur']}\n",
      "     name  age      city\n",
      "0     jui   24  Dinajpur\n",
      "1   prima   25   Rangpur\n",
      "2   priya   26   Saidpur\n",
      "3    hena   27  Dinajpur\n",
      "4   sadia   28   Rangpur\n",
      "5  rivana   29   Saidpur\n",
      "<class 'pandas.core.frame.DataFrame'>\n",
      "RangeIndex: 6 entries, 0 to 5\n",
      "Data columns (total 3 columns):\n",
      " #   Column  Non-Null Count  Dtype \n",
      "---  ------  --------------  ----- \n",
      " 0   name    6 non-null      object\n",
      " 1   age     6 non-null      int64 \n",
      " 2   city    6 non-null      object\n",
      "dtypes: int64(1), object(2)\n",
      "memory usage: 276.0+ bytes\n",
      "None\n"
     ]
    }
   ],
   "source": [
    "students={\n",
    "    \"name\":[\"jui\",\"prima\",\"priya\",\"hena\",\"sadia\",\"rivana\"],\n",
    "    \"age\":[24,25,26,27,28,29],\n",
    "    \"city\":[\"Dinajpur\",\"Rangpur\",\"Saidpur\",\"Dinajpur\",\"Rangpur\",\"Saidpur\"]\n",
    "}\n",
    "print(students)\n",
    "df=pd.DataFrame(students)\n",
    "print(df)\n",
    "print(df.info())"
   ]
  },
  {
   "cell_type": "code",
   "execution_count": 29,
   "id": "b6a11499-7b31-44ba-a2a5-43da1679edc8",
   "metadata": {},
   "outputs": [
    {
     "name": "stdout",
     "output_type": "stream",
     "text": [
      "{'name': ['jui', 'prima', 'priya', 'hena', 'sadia', 'rivana'], 'age': [24, 25, 26, 27, 28, 29], 'city': ['Dinajpur', 'Rangpur', 'Saidpur', 'Dinajpur', 'Rangpur', 'Saidpur']}\n",
      "             age\n",
      "count   6.000000\n",
      "mean   26.500000\n",
      "std     1.870829\n",
      "min    24.000000\n",
      "25%    25.250000\n",
      "50%    26.500000\n",
      "75%    27.750000\n",
      "max    29.000000\n"
     ]
    }
   ],
   "source": [
    "students={\n",
    "    \"name\":[\"jui\",\"prima\",\"priya\",\"hena\",\"sadia\",\"rivana\"],\n",
    "    \"age\":[24,25,26,27,28,29],\n",
    "    \"city\":[\"Dinajpur\",\"Rangpur\",\"Saidpur\",\"Dinajpur\",\"Rangpur\",\"Saidpur\"]\n",
    "}\n",
    "print(students)\n",
    "df=pd.DataFrame(students)\n",
    "print(df.describe())"
   ]
  },
  {
   "cell_type": "code",
   "execution_count": 33,
   "id": "1c39b2f7-32c8-4d48-a1b7-5f82e006fd5c",
   "metadata": {},
   "outputs": [
    {
     "name": "stdout",
     "output_type": "stream",
     "text": [
      "     name      city\n",
      "0     jui  Dinajpur\n",
      "1   prima   Rangpur\n",
      "2   priya   Saidpur\n",
      "3    hena  Dinajpur\n",
      "4   sadia   Rangpur\n",
      "5  rivana   Saidpur\n"
     ]
    }
   ],
   "source": [
    "print(df[[\"name\",\"city\"]])"
   ]
  },
  {
   "cell_type": "code",
   "execution_count": 37,
   "id": "692a7ced-fabf-4be7-8245-d9e3621b0a1d",
   "metadata": {},
   "outputs": [
    {
     "name": "stdout",
     "output_type": "stream",
     "text": [
      "name     rivana\n",
      "age          29\n",
      "city    Saidpur\n",
      "Name: 5, dtype: object\n"
     ]
    }
   ],
   "source": [
    "print(df.iloc[5])"
   ]
  },
  {
   "cell_type": "code",
   "execution_count": 39,
   "id": "17858ed7-726f-48cf-a7a6-9bc124c36b67",
   "metadata": {},
   "outputs": [
    {
     "name": "stdout",
     "output_type": "stream",
     "text": [
      "    name  age      city\n",
      "1  prima   25   Rangpur\n",
      "2  priya   26   Saidpur\n",
      "3   hena   27  Dinajpur\n",
      "4  sadia   28   Rangpur\n"
     ]
    }
   ],
   "source": [
    "print(df.iloc[1:5])"
   ]
  },
  {
   "cell_type": "code",
   "execution_count": 43,
   "id": "7d1de921-da3b-4a1f-ac37-0537113af513",
   "metadata": {},
   "outputs": [
    {
     "name": "stdout",
     "output_type": "stream",
     "text": [
      "jui\n"
     ]
    }
   ],
   "source": [
    "print(df.loc[0,\"name\"])"
   ]
  },
  {
   "cell_type": "code",
   "execution_count": 51,
   "id": "6441336b-3479-4d67-b86b-0ce98a0424ed",
   "metadata": {},
   "outputs": [
    {
     "name": "stdout",
     "output_type": "stream",
     "text": [
      "     name  age      city\n",
      "2   priya   26   Saidpur\n",
      "3    hena   27  Dinajpur\n",
      "4   sadia   28   Rangpur\n",
      "5  rivana   29   Saidpur\n"
     ]
    }
   ],
   "source": [
    "print(df.loc[df[\"age\"]>25])"
   ]
  },
  {
   "cell_type": "code",
   "execution_count": 63,
   "id": "6fc8cc3f-d05d-46d9-a9ac-dba44eb8d045",
   "metadata": {},
   "outputs": [
    {
     "name": "stdout",
     "output_type": "stream",
     "text": [
      "     name  age      city\n",
      "5  rivana   29   Saidpur\n",
      "4   sadia   28   Rangpur\n",
      "3    hena   27  Dinajpur\n",
      "2   priya   26   Saidpur\n",
      "1   prima   25   Rangpur\n",
      "0     jui   24  Dinajpur\n"
     ]
    }
   ],
   "source": [
    "\n",
    "sortedAge=df.sort_values(\"age\",ascending=False)\n",
    "print(sortedAge)"
   ]
  },
  {
   "cell_type": "code",
   "execution_count": 67,
   "id": "7b251517-a963-43aa-a0a0-daa107df1493",
   "metadata": {},
   "outputs": [],
   "source": [
    "df.to_csv(\"student dat.csv\",index=False)"
   ]
  },
  {
   "cell_type": "code",
   "execution_count": 75,
   "id": "dda3b684-a05a-4936-b5f2-70ff388d4f44",
   "metadata": {},
   "outputs": [
    {
     "name": "stdout",
     "output_type": "stream",
     "text": [
      "     name  age      city\n",
      "0     jui   24  Dinajpur\n",
      "1   prima   25   Rangpur\n",
      "2   priya   26   Saidpur\n",
      "3    hena   27  Dinajpur\n",
      "4   sadia   28   Rangpur\n",
      "5  rivana   29   Saidpur\n",
      "6   sakib   73       ctg\n"
     ]
    }
   ],
   "source": [
    "df1=pd.read_csv(\"student dat.csv\")\n",
    "print(df1)"
   ]
  },
  {
   "cell_type": "code",
   "execution_count": 77,
   "id": "6b17cc16-45bc-4047-bdbb-186976c0c95b",
   "metadata": {},
   "outputs": [
    {
     "name": "stdout",
     "output_type": "stream",
     "text": [
      "     name  age      city\n",
      "5  rivana   29   Saidpur\n",
      "4   sadia   28   Rangpur\n",
      "3    hena   27  Dinajpur\n",
      "2   priya   26   Saidpur\n",
      "1   prima   25   Rangpur\n",
      "0     jui   24  Dinajpur\n"
     ]
    }
   ],
   "source": [
    "sortedAge=df.sort_values(\"age\",ascending=False)\n",
    "print(sortedAge)"
   ]
  },
  {
   "cell_type": "code",
   "execution_count": 79,
   "id": "5360ca77-fbb6-4af8-9c1b-cce095778a5d",
   "metadata": {},
   "outputs": [],
   "source": [
    "df.to_csv(\"students dat.csv\",index=False)"
   ]
  },
  {
   "cell_type": "code",
   "execution_count": null,
   "id": "9f3b71d6-e585-4ebf-ba68-cf0d53939efb",
   "metadata": {},
   "outputs": [],
   "source": [
    "df1=pd.read_csv(\"student dat.csv\")\n",
    "print(df1)"
   ]
  },
  {
   "cell_type": "code",
   "execution_count": 3,
   "id": "5976fe5e-a400-4dc5-91da-8e54585c3817",
   "metadata": {},
   "outputs": [
    {
     "ename": "NameError",
     "evalue": "name 'plt' is not defined",
     "output_type": "error",
     "traceback": [
      "\u001b[1;31m---------------------------------------------------------------------------\u001b[0m",
      "\u001b[1;31mNameError\u001b[0m                                 Traceback (most recent call last)",
      "Cell \u001b[1;32mIn[3], line 1\u001b[0m\n\u001b[1;32m----> 1\u001b[0m plt\u001b[38;5;241m.\u001b[39mfigure(figsize\u001b[38;5;241m=\u001b[39m(\u001b[38;5;241m6\u001b[39m,\u001b[38;5;241m4\u001b[39m))\n\u001b[0;32m      2\u001b[0m sns\u001b[38;5;241m.\u001b[39mhistplot(df[\u001b[38;5;124m'\u001b[39m\u001b[38;5;124mMarks\u001b[39m\u001b[38;5;124m'\u001b[39m], kde\u001b[38;5;241m=\u001b[39m\u001b[38;5;28;01mTrue\u001b[39;00m, color\u001b[38;5;241m=\u001b[39m\u001b[38;5;124m'\u001b[39m\u001b[38;5;124mskyblue\u001b[39m\u001b[38;5;124m'\u001b[39m)\n\u001b[0;32m      3\u001b[0m plt\u001b[38;5;241m.\u001b[39mtitle(\u001b[38;5;124m\"\u001b[39m\u001b[38;5;124mDistribution of Marks\u001b[39m\u001b[38;5;124m\"\u001b[39m)\n",
      "\u001b[1;31mNameError\u001b[0m: name 'plt' is not defined"
     ]
    }
   ],
   "source": []
  },
  {
   "cell_type": "code",
   "execution_count": null,
   "id": "127c5177-1323-46a5-b01d-178d23d293db",
   "metadata": {},
   "outputs": [],
   "source": []
  }
 ],
 "metadata": {
  "kernelspec": {
   "display_name": "Python [conda env:base] *",
   "language": "python",
   "name": "conda-base-py"
  },
  "language_info": {
   "codemirror_mode": {
    "name": "ipython",
    "version": 3
   },
   "file_extension": ".py",
   "mimetype": "text/x-python",
   "name": "python",
   "nbconvert_exporter": "python",
   "pygments_lexer": "ipython3",
   "version": "3.12.7"
  }
 },
 "nbformat": 4,
 "nbformat_minor": 5
}
